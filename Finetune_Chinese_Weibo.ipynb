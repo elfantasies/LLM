Epoch	Training Loss	Validation Loss	Accuracy
1	0.083800	0.122767	0.977600
2	0.095500	0.054859	0.982800
3	0.056600	0.054542	0.983700
TrainOutput(global_step=3750, training_loss=0.0969543685913086, metrics={'train_runtime': 4096.9346, 'train_samples_per_second': 7.323, 'train_steps_per_second': 0.915, 'total_flos': 7893331660800000.0, 'train_loss': 0.0969543685913086, 'epoch': 3.0})

[{'label': 'LABEL_1', 'score': 0.9171322584152222}]
